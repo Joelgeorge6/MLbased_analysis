{
  "nbformat": 4,
  "nbformat_minor": 0,
  "metadata": {
    "colab": {
      "name": "Data Analysis of Antibiogram",
      "provenance": [],
      "collapsed_sections": []
    },
    "kernelspec": {
      "name": "python3",
      "display_name": "Python 3"
    }
  },
  "cells": [
    {
      "cell_type": "markdown",
      "metadata": {
        "id": "HukHY_APOXNr"
      },
      "source": [
        "<img src=\"https://i1.wp.com/ayeai.xyz/site/wp-content/uploads/2019/09/cropped-AyeAI-logo-cropped-tm-150x150-v2.0.svg-1.png?fit=141%2C77&ssl=1\" height=\"50\" width=\"100\">®<br>\n",
        "# Data Analysis of Antibiogram\n",
        "### AyeLearn by AyeAI™\n",
        "##### Copyright (C) 2022 Abhishek Choudhary, Dr Srija Katta <br>\n",
        "##### AyeAI Singularity Public License. No warranty. No Liability"
      ]
    },
    {
      "cell_type": "markdown",
      "source": [
        "# Initialization, Training and Test\n",
        "\n",
        "#### Disclaimer: This is only an academic exercise and must notbe used in a clinical setup with real patients, unless duly verified, tested and approved by drug control authorities"
      ],
      "metadata": {
        "id": "tbj4SOUaxhyu"
      }
    },
    {
      "cell_type": "code",
      "source": [
        "%%bash\n",
        "#install python3\n",
        "#sudo apt-get install python3 -y\n",
        "\n",
        "#install python3-pip\n",
        "sudo apt-get -y install python3-pip\n",
        "\n",
        "\n"
      ],
      "metadata": {
        "id": "ZE7AyfFXJEXO"
      },
      "execution_count": null,
      "outputs": []
    },
    {
      "cell_type": "code",
      "source": [
        "%%bash\n",
        "#install numpy\n",
        "python3 -m pip install --user numpy\n",
        "\n",
        "#install scipy\n",
        "python3 -m pip install --user scipy\n",
        "\n",
        "\n"
      ],
      "metadata": {
        "id": "r3MWIF61JZC9"
      },
      "execution_count": null,
      "outputs": []
    },
    {
      "cell_type": "code",
      "source": [
        "%%bash\n",
        "#install scikit-learn using pip \n",
        "pip3 install -U scikit-learn\n",
        "#check and verify scikit-learn\n",
        "python3 -m pip show scikit-learn\n",
        "\n"
      ],
      "metadata": {
        "id": "YQutv_YtKVDH"
      },
      "execution_count": null,
      "outputs": []
    },
    {
      "cell_type": "code",
      "source": [
        "%%shell\n",
        "if [ -x dataset ]; then mv dataset dataset.$(date +%s); fi\n",
        "git clone https://github.com/srija-ieee/MLbased_analysis dataset\n"
      ],
      "metadata": {
        "id": "rxkDUxMGpQys"
      },
      "execution_count": null,
      "outputs": []
    },
    {
      "cell_type": "code",
      "source": [
        "import pandas as pd\n",
        "import numpy as np\n",
        "din = pd.read_csv(\"dataset/genloc_isolate.csv\")\n",
        "df = pd.DataFrame(din)\n",
        "corr = df.corr()\n",
        "corr\n",
        "x=np.asarray(df.genloc)\n",
        "y=np.asarray(df.isolate)\n",
        "#from sklearn.linear_model import LogisticRegression\n",
        "from sklearn import linear_model as lm\n",
        "#model=lm.Perceptron()\n",
        "model=lm.LogisticRegression()\n",
        "x=x.reshape(-1,1)\n",
        "model.fit(x,y)\n",
        "model.predict(x)\n",
        "#model.predict_proba(x)"
      ],
      "metadata": {
        "id": "pDTnTbkaenHN"
      },
      "execution_count": null,
      "outputs": []
    },
    {
      "cell_type": "code",
      "source": [
        "!cat dataset/genloc_isolate.csv | grep -v 81 | grep -v 150 | grep -v 84 > dataset/genloc_isolate.min.csv"
      ],
      "metadata": {
        "id": "Dw_T1cHCe_U8"
      },
      "execution_count": 23,
      "outputs": []
    },
    {
      "cell_type": "code",
      "source": [
        "import pandas as pd\n",
        "import numpy as np\n",
        "din = pd.read_csv(\"dataset/genloc_isolate.min.csv\")\n",
        "df = pd.DataFrame(din)\n",
        "corr = df.corr()\n",
        "corr\n",
        "x=np.asarray(df.genloc)\n",
        "y=np.asarray(df.isolate)\n",
        "#from sklearn.linear_model import LogisticRegression\n",
        "from sklearn import linear_model as lm\n",
        "#model=lm.Perceptron()\n",
        "model=lm.LogisticRegression()\n",
        "x=x.reshape(-1,1)\n",
        "model.fit(x,y)\n",
        "model.predict(x)\n",
        "#model.predict_proba(x)"
      ],
      "metadata": {
        "id": "2ZTbAZ4bfQbl"
      },
      "execution_count": null,
      "outputs": []
    },
    {
      "cell_type": "code",
      "source": [
        "model.predict_proba(x)[2]"
      ],
      "metadata": {
        "id": "8XT1BmABgQBs"
      },
      "execution_count": null,
      "outputs": []
    },
    {
      "cell_type": "code",
      "source": [
        "!cat dataset/isolates.coding | tr ';' '\\n' | awk -F',' '{printf \"s/%s/%s/g;\",$4,$2};END {printf \"\\n\"}' > dataset/isolates.reverse\n",
        "rev_filt = !cat dataset/isolates.reverse\n",
        "preds =   model.predict(x)\n",
        "diff_probs = model.predict_proba(x)\n",
        "p=0\n",
        "for n in preds:\n",
        "  p=p+1\n",
        "  print(\"Patient \",p,\": \",end=' ')\n",
        "  cmd_str=\"echo \" + str(n) + \" | sed \" + \"\"\" '\"\"\" + rev_filt[0] + \"\"\"' \"\"\"\n",
        "  !{cmd_str}\n",
        "  print(\"Differential probabilities\")\n",
        "  print(diff_probs[p-1])\n"
      ],
      "metadata": {
        "id": "DBeGVKauhUDT"
      },
      "execution_count": null,
      "outputs": []
    },
    {
      "cell_type": "markdown",
      "source": [
        "# CDSS (based on predictive model)\n",
        "\n",
        "#### Disclaimer: For academic usage only. Not to be used with real patients in clinical settings. The predictions may be biased based on skews in the training dataset, and are subject to errors of calculation in the underlying framework used. No warranty. No Liability."
      ],
      "metadata": {
        "id": "gcEtLy_FyFQI"
      }
    },
    {
      "cell_type": "code",
      "source": [
        "#@title UTI CDSS (isolate prediction based on gender and location) { run: \"auto\", vertical-output: true }\n",
        "Name = \"PN\" #@param {type:\"string\"}\n",
        "Gender = \"Female\" #@param [\"Male\", \"Female\"]\n",
        "Age = 61 #@param {type:\"slider\", min:5, max:100, step:1}\n",
        "Location = \"Semi Urban\" #@param [\"Urban\", \"Semi Urban\", \"Rural\"]\n",
        "\n",
        "from IPython import display\n",
        "\n",
        "if Gender == \"Male\":\n",
        "  g=7\n",
        "else:\n",
        "  g=11\n",
        "\n",
        "if Location == \"Urban\":\n",
        "  l = 85\n",
        "else:\n",
        "  if Location == \"Rural\":\n",
        "    l = 51\n",
        "  else:\n",
        "    l = 68\n",
        "\n",
        "x=[[g*l]]\n",
        "ppre=model.predict(x)[0]\n",
        "cmd_str=\"echo \" + str(ppre) + \" | sed \" + \"\"\" '\"\"\" + rev_filt[0] + \"\"\"' \"\"\"\n",
        "#print(\"Most likely isolate expected\")\n",
        "res=!{cmd_str}\n",
        "#print(res[0])\n",
        "\n",
        "with open(\"report.html\",\"w\") as fl:\n",
        "  fl.write(\"\"\"<img src=\"https://i1.wp.com/ayeai.xyz/site/wp-content/uploads/2019/09/cropped-AyeAI-logo-cropped-tm-150x150-v2.0.svg-1.png?fit=141%2C77&ssl=1\" height=\"50\" width=\"100\"></img>®\"\"\")\n",
        "  fl.write(\"<h1>AyeVH Project Internship</h1>\")\n",
        "  fl.write(\"<h2>CDSS Report</h2>\")\n",
        "  fl.write(\"<h3>Patient: \" + Name)\n",
        "  fl.write(\"</h3><b>Gender: \" + Gender)\n",
        "  fl.write(\"<br>Age: \" + str(Age))\n",
        "  fl.write(\"<br>Location: \" + Location)\n",
        "  fl.write(\"</h3>Genloc index = \" + str(g*l))\n",
        "  fl.write(\"<br><br>Most likely isolate expected: <h3>\")\n",
        "  fl.write(res[0])\n",
        "  fl.write(\"</b></h3><br>Differential probabilties (refer pathogen encoding)<br>\")\n",
        "  l=0\n",
        "  for n in model.predict_proba(x)[0]:\n",
        "    fl.write(str(n))\n",
        "    l+=1\n",
        "    fl.write(\" \")\n",
        "    if l % 3 == 0:\n",
        "      fl.write(\"<br>\")\n",
        "  fl.write(\"<br><br><small>Disclaimer:<br>\")\n",
        "  fl.write(\"This is for academic purposes only.\")\n",
        "  fl.write(\"The results must NOT be used for real patients without due testing, verification and authorization by drug control authorities.\")\n",
        "  fl.write(\"This model was developed as a part of Project Internship with AyeAI\")\n",
        "  fl.write('<br><br>Visit <a href=\"https://ayeai.xyz\">AyeAI site</a> for more learning opportunities in <b>Artificial Intelligence and Machine Learning in Healthcare</b></small>')\n",
        "\n",
        "html_rep=!cat report.html\n",
        "\n",
        "html_str=\"\"\n",
        "for n in html_rep:\n",
        "  html_str+=n\n",
        "\n",
        "display.HTML(html_str)"
      ],
      "metadata": {
        "colab": {
          "base_uri": "https://localhost:8080/",
          "height": 649
        },
        "cellView": "form",
        "id": "w3Kd1uJloeh-",
        "outputId": "0d5588a0-448a-4a45-dcd7-76d3af8a4543"
      },
      "execution_count": 143,
      "outputs": [
        {
          "output_type": "execute_result",
          "data": {
            "text/plain": [
              "<IPython.core.display.HTML object>"
            ],
            "text/html": [
              "<img src=\"https://i1.wp.com/ayeai.xyz/site/wp-content/uploads/2019/09/cropped-AyeAI-logo-cropped-tm-150x150-v2.0.svg-1.png?fit=141%2C77&ssl=1\" height=\"50\" width=\"100\"></img>®<h1>AyeVH Project Internship</h1><h2>CDSS Report</h2><h3>Patient: PN</h3><b>Gender: Female<br>Age: 61<br>Location: Semi Urban</h3>Genloc index = 748<br><br>Most likely isolate expected: <h3>acinetobacter spacinectobacter sp</b></h3><br>Differential probabilties (refer pathogen encoding)<br>0.061830354611767384 0.032215757046307775 0.031163411783802834 <br>0.013441634060521134 0.014733175361549817 0.04921707110390828 <br>0.002878370135916133 0.008447025422311467 0.019779351086232033 <br>0.019779351086232123 0.012956885451501306 0.01786937909469084 <br>0.05097280206784944 0.07040930442586177 0.0351372513977698 <br>0.01295688545150154 0.006237846714918264 0.0015658005562512408 <br>0.04614042365076106 0.11296572391376365 0.028265703978503493 <br>0.012956885451501489 0.009709520903000904 0.05385376060754988 <br>0.08181825504687595 0.11311265975938789 0.001565800555689031 <br>0.007230411789126175 0.008447025422311471 0.001565800555710598 <br>0.03038818575346251 0.030388185753462648 <br><br><small>Disclaimer:<br>This is for academic purposes only.The results must NOT be used for real patients without due testing, verification and authorization by drug control authorities.This model was developed as a part of Project Internship with AyeAI<br><br>Visit <a href=\"https://ayeai.xyz\">AyeAI site</a> for more learning opportunities in <b>Artificial Intelligence and Machine Learning in Healthcare</b></small>"
            ]
          },
          "metadata": {},
          "execution_count": 143
        }
      ]
    }
  ]
}